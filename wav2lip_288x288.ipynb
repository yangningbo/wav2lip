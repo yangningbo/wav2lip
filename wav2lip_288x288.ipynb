{
 "nbformat": 4,
 "nbformat_minor": 0,
 "metadata": {
  "colab": {
   "provenance": [
    {
     "file_id": "1tZpDWXz49W6wDcTprANRGLo2D_EbD5J8",
     "timestamp": 1689734727798
    },
    {
     "file_id": "1NLUwupCBsB1HrpEmOIHeMgU63sus2LxP",
     "timestamp": 1597735440478
    }
   ]
  },
  "kernelspec": {
   "name": "python3",
   "display_name": "Python 3"
  },
  "accelerator": "GPU"
 },
 "cells": [
  {
   "cell_type": "markdown",
   "metadata": {
    "id": "vSQFs_G8caeE"
   },
   "source": [
    "# Collab preliminaries"
   ]
  },
  {
   "cell_type": "code",
   "metadata": {
    "id": "XIVB0Xn1g6ih",
    "colab": {
     "base_uri": "https://localhost:8080/"
    },
    "executionInfo": {
     "status": "ok",
     "timestamp": 1689744278989,
     "user_tz": -480,
     "elapsed": 12,
     "user": {
      "displayName": "Chuangcius Song",
      "userId": "06526828574003630486"
     }
    },
    "outputId": "a7b4b4ab-fd29-4298-b270-9ba15b8e31c1"
   },
   "source": [
    "!nvcc --version"
   ],
   "execution_count": null,
   "outputs": []
  },
  {
   "cell_type": "code",
   "metadata": {
    "id": "qciH4PsUazL_"
   },
   "source": [
    "from google.colab import drive\n",
    "drive.mount('/content/gdrive')\n",
    "!ls -l /content/gdrive/MyDrive/Wav2Lip"
   ],
   "execution_count": null,
   "outputs": []
  },
  {
   "cell_type": "markdown",
   "metadata": {
    "id": "yJ5taGmPcWV-"
   },
   "source": [
    "# Get the code and models"
   ]
  },
  {
   "cell_type": "code",
   "metadata": {
    "id": "P3LihClHbUd3"
   },
   "source": [
    "%cd /content\n",
    "!git clone \"https://github.com/yangningbo/Wav2Lip.git\" \"wav2lip_288x288\""
   ],
   "execution_count": null,
   "outputs": []
  },
  {
   "cell_type": "code",
   "metadata": {
    "id": "YjzMPy_Sb0AI"
   },
   "source": [
    "!cp -ri \"/content/gdrive/MyDrive/Wav2Lip/data.zip\" \"/content/wav2lip_288x288/\"\n",
    "!cp -ri \"/content/gdrive/MyDrive/Wav2Lip/filelists.zip\" \"/content/wav2lip_288x288/\"\n",
    "!cp -ri \"/content/gdrive/MyDrive/Wav2Lip/wav2lip_gan.pth\" \"/content/wav2lip_288x288/checkpoints/\"\n",
    "!cp -ri \"/content/gdrive/MyDrive/Wav2Lip/s3fd.pth\" \"/content/wav2lip_288x288/face_detection/detection/sfd/\"\n",
    "!cp -ri \"/content/gdrive/MyDrive/Wav2Lip/test2.mp4\" \"/content/gdrive/MyDrive/Wav2Lip/test.mp3\" \"/content/sample_data/\""
   ],
   "execution_count": null,
   "outputs": []
  },
  {
   "cell_type": "markdown",
   "metadata": {
    "id": "aWTaOS3ncFt6"
   },
   "source": [
    "# Get the pre-requisites"
   ]
  },
  {
   "cell_type": "code",
   "metadata": {
    "id": "49dCYlLdcK2D"
   },
   "source": [
    "%cd /content/wav2lip_288x288\n",
    "!pip uninstall -y tensorflow tensorflow-gpu\n",
    "!pip install -r requirements.txt\n",
    "!pip install -q youtube-dl\n",
    "!pip install -q yt-dlp\n",
    "!pip install -q ffmpeg-python"
   ],
   "execution_count": null,
   "outputs": []
  },
  {
   "cell_type": "code",
   "source": [
    "%cd /content/wav2lip_288x288\n",
    "!unzip data.zip\n",
    "!rm -rf data.zip"
   ],
   "metadata": {
    "id": "ltIdGHi7LLzO"
   },
   "execution_count": null,
   "outputs": []
  },
  {
   "cell_type": "code",
   "source": [
    "%cd /content/wav2lip_288x288\n",
    "!unzip filelists.zip\n",
    "!rm -rf filelists.zip"
   ],
   "metadata": {
    "id": "5L327reRnxZ5"
   },
   "execution_count": null,
   "outputs": []
  },
  {
   "cell_type": "markdown",
   "source": [
    "## Pre-process data"
   ],
   "metadata": {
    "collapsed": false
   }
  },
  {
   "cell_type": "code",
   "source": [
    "%cd /content/wav2lip_288x288\n",
    "!rm -rf processed_data\n",
    "!python preprocess.py --data_root '/content/wav2lip_288x288/data' --preprocessed_root '/content/wav2lip_288x288/processed_data'"
   ],
   "metadata": {
    "colab": {
     "base_uri": "https://localhost:8080/"
    },
    "id": "ht-PpdluLRut",
    "executionInfo": {
     "status": "ok",
     "timestamp": 1689745091223,
     "user_tz": -480,
     "elapsed": 542424,
     "user": {
      "displayName": "Chuangcius Song",
      "userId": "06526828574003630486"
     }
    },
    "outputId": "b9aa853d-5f61-4df3-9836-e4477f993039"
   },
   "execution_count": null,
   "outputs": []
  },
  {
   "cell_type": "markdown",
   "source": [
    "## Train the Discriminator"
   ],
   "metadata": {
    "collapsed": false
   }
  },
  {
   "cell_type": "code",
   "source": [
    "%cd /content/wav2lip_288x288\n",
    "!mkdir expert_checkpoints\n",
    "!python color_syncnet_train.py --data_root '/content/wav2lip_288x288/processed_data' --checkpoint_dir '/content/wav2lip_288x288/expert_checkpoints'"
   ],
   "metadata": {
    "colab": {
     "base_uri": "https://localhost:8080/"
    },
    "id": "Lm0Wo9bfMipZ",
    "executionInfo": {
     "status": "ok",
     "timestamp": 1689755915463,
     "user_tz": -480,
     "elapsed": 160861,
     "user": {
      "displayName": "Chuangcius Song",
      "userId": "06526828574003630486"
     }
    },
    "outputId": "1fb987e9-1596-4527-dffe-a5072328292b"
   },
   "execution_count": null,
   "outputs": []
  },
  {
   "cell_type": "markdown",
   "source": [
    "## Train the Generator"
   ],
   "metadata": {
    "collapsed": false
   }
  },
  {
   "cell_type": "code",
   "source": [
    "%cd /content/wav2lip_288x288\n",
    "!python wav2lip_train.py --data_root \"/content/wav2lip_288x288/processed_data\" --checkpoint_dir '/content/wav2lip_288x288/checkpoints' --syncnet_checkpoint_path \"/content/wav2lip_288x288/expert_checkpoints/checkpoint_step000000001.pth\""
   ],
   "metadata": {
    "id": "3kg2pSezMuin",
    "colab": {
     "base_uri": "https://localhost:8080/"
    },
    "executionInfo": {
     "status": "ok",
     "timestamp": 1689763504047,
     "user_tz": -480,
     "elapsed": 1757,
     "user": {
      "displayName": "Chuangcius Song",
      "userId": "06526828574003630486"
     }
    },
    "outputId": "e1c522f8-d5e6-4f13-97b4-ee6aa77de42a"
   },
   "execution_count": null,
   "outputs": []
  },
  {
   "cell_type": "markdown",
   "metadata": {
    "id": "qdIQfY2Kswcb"
   },
   "source": [
    "# Now lets try!"
   ]
  },
  {
   "cell_type": "code",
   "metadata": {
    "id": "jR5utmDMcSZY",
    "colab": {
     "base_uri": "https://localhost:8080/"
    },
    "executionInfo": {
     "status": "ok",
     "timestamp": 1689763924270,
     "user_tz": -480,
     "elapsed": 396151,
     "user": {
      "displayName": "Chuangcius Song",
      "userId": "06526828574003630486"
     }
    },
    "outputId": "36e96e8d-eba5-4a54-bb33-17c8842e58cb"
   },
   "source": [
    "%cd /content/wav2lip_288x288\n",
    "!python inference.py --checkpoint_path \"/content/wav2lip_288x288/checkpoints/checkpoint_step000000001.pth\" --face \"/content/sample_data/test2.mp4\" --audio \"/content/sample_data/test.mp3\""
   ],
   "execution_count": null,
   "outputs": []
  },
  {
   "cell_type": "markdown",
   "metadata": {
    "id": "d7zgfrQqbKom"
   },
   "source": [
    "## **Variations to try**"
   ]
  },
  {
   "cell_type": "code",
   "metadata": {
    "id": "45XW4SZAzIz5"
   },
   "source": [
    "# 1.   Use more padding to include the chin region\n",
    "%cd /content/wav2lip_288x288\n",
    "!python inference.py --checkpoint_path \"/content/wav2lip_288x288/checkpoints/checkpoint_step000000001.pth\" --face \"/content/sample_data/test2.mp4\" --audio \"/content/sample_data/test.mp3\" --pads 0 20 0 0"
   ],
   "execution_count": null,
   "outputs": []
  },
  {
   "cell_type": "code",
   "metadata": {
    "id": "xw0xFtZ2bsx8"
   },
   "source": [
    "# 2.   Use resize_factor to reduce the video resolution, as there is a change you might get better results for lower resolution videos. Why? Because the model was trained on low resolution faces.\n",
    "%cd /content/wav2lip_288x288\n",
    "!python inference.py --checkpoint_path \"/content/wav2lip_288x288/checkpoints/checkpoint_step000000001.pth\" --face \"/content/sample_data/test2.mp4\" --audio \"/content/sample_data/test.mp3\" --resize_factor 2"
   ],
   "execution_count": null,
   "outputs": []
  },
  {
   "cell_type": "markdown",
   "source": [
    "## ------------ Split line ------------"
   ],
   "metadata": {
    "id": "d8UFxLgCq3IY"
   }
  },
  {
   "cell_type": "code",
   "source": [
    "!pip install yt-dlp\n",
    "from urllib import parse as urlparse\n",
    "YOUTUBE_URL = 'https://www.youtube.com/watch?v=vAnWYLTdvfY'\n",
    "url_data = urlparse.urlparse(YOUTUBE_URL)\n",
    "query = urlparse.parse_qs(url_data.query)\n",
    "YOUTUBE_ID = query[\"v\"][0]\n",
    "\n",
    "start = 35\n",
    "end = 41\n",
    "interval = end - start\n",
    "\n",
    "!yt-dlp -f 'bestvideo[ext=mp4]' --output \"youtube.%(ext)s\" https://www.youtube.com/watch?v=$YOUTUBE_ID\n",
    "!ffmpeg -y -i youtube.mp4 -ss {start} -t {interval} -async 1 /content/sample_data/test.mp4"
   ],
   "metadata": {
    "id": "QUQjB0AdD_iw"
   },
   "execution_count": null,
   "outputs": []
  },
  {
   "cell_type": "code",
   "source": [
    "# Preview the trimmed video\n",
    "from IPython.display import HTML\n",
    "from base64 import b64encode\n",
    "mp4 = open('/content/sample_data/test.mp4','rb').read()\n",
    "data_url = \"data:video/mp4;base64,\" + b64encode(mp4).decode()\n",
    "HTML(f\"\"\"\"\"\")"
   ],
   "metadata": {
    "id": "1DW601HJEf54"
   },
   "execution_count": null,
   "outputs": []
  }
 ]
}
